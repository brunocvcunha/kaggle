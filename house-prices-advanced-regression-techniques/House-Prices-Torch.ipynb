{
 "cells": [
  {
   "cell_type": "code",
   "execution_count": 5,
   "metadata": {},
   "outputs": [],
   "source": [
    "import pandas as pd\n",
    "import numpy as np\n",
    "\n",
    "import matplotlib.pyplot as plt\n",
    "\n",
    "from tqdm import tqdm"
   ]
  },
  {
   "cell_type": "code",
   "execution_count": 6,
   "metadata": {},
   "outputs": [],
   "source": [
    "train = pd.get_dummies(pd.read_csv('train.csv'), prefix_sep=\"__\").fillna(0)\n",
    "test = pd.get_dummies(pd.read_csv('test.csv'), prefix_sep=\"__\", )"
   ]
  },
  {
   "cell_type": "code",
   "execution_count": 7,
   "metadata": {},
   "outputs": [
    {
     "name": "stdout",
     "output_type": "stream",
     "text": [
      "Adding missing feature Utilities__NoSeWa\n",
      "Adding missing feature Condition2__RRAe\n",
      "Adding missing feature Condition2__RRAn\n",
      "Adding missing feature Condition2__RRNn\n",
      "Adding missing feature HouseStyle__2.5Fin\n",
      "Adding missing feature RoofMatl__ClyTile\n",
      "Adding missing feature RoofMatl__Membran\n",
      "Adding missing feature RoofMatl__Metal\n",
      "Adding missing feature RoofMatl__Roll\n",
      "Adding missing feature Exterior1st__ImStucc\n",
      "Adding missing feature Exterior1st__Stone\n",
      "Adding missing feature Exterior2nd__Other\n",
      "Adding missing feature Heating__Floor\n",
      "Adding missing feature Heating__OthW\n",
      "Adding missing feature Electrical__Mix\n",
      "Adding missing feature GarageQual__Ex\n",
      "Adding missing feature PoolQC__Fa\n",
      "Adding missing feature MiscFeature__TenC\n"
     ]
    }
   ],
   "source": [
    "cat_dummies = [col for col in train \n",
    "               if \"__\" in col]\n",
    "\n",
    "for col in cat_dummies:\n",
    "    if col not in test.columns:\n",
    "        print(\"Adding missing feature {}\".format(col))\n",
    "        test[col] = 0\n",
    "\n",
    "test = test.reindex(train.columns, axis=1).drop(['SalePrice'], axis=1).fillna(0)"
   ]
  },
  {
   "cell_type": "code",
   "execution_count": null,
   "metadata": {},
   "outputs": [],
   "source": []
  },
  {
   "cell_type": "code",
   "execution_count": 8,
   "metadata": {},
   "outputs": [
    {
     "data": {
      "text/html": [
       "<div>\n",
       "<style scoped>\n",
       "    .dataframe tbody tr th:only-of-type {\n",
       "        vertical-align: middle;\n",
       "    }\n",
       "\n",
       "    .dataframe tbody tr th {\n",
       "        vertical-align: top;\n",
       "    }\n",
       "\n",
       "    .dataframe thead th {\n",
       "        text-align: right;\n",
       "    }\n",
       "</style>\n",
       "<table border=\"1\" class=\"dataframe\">\n",
       "  <thead>\n",
       "    <tr style=\"text-align: right;\">\n",
       "      <th></th>\n",
       "      <th>Id</th>\n",
       "      <th>MSSubClass</th>\n",
       "      <th>LotFrontage</th>\n",
       "      <th>LotArea</th>\n",
       "      <th>OverallQual</th>\n",
       "      <th>OverallCond</th>\n",
       "      <th>YearBuilt</th>\n",
       "      <th>YearRemodAdd</th>\n",
       "      <th>MasVnrArea</th>\n",
       "      <th>BsmtFinSF1</th>\n",
       "      <th>...</th>\n",
       "      <th>SaleType__ConLw</th>\n",
       "      <th>SaleType__New</th>\n",
       "      <th>SaleType__Oth</th>\n",
       "      <th>SaleType__WD</th>\n",
       "      <th>SaleCondition__Abnorml</th>\n",
       "      <th>SaleCondition__AdjLand</th>\n",
       "      <th>SaleCondition__Alloca</th>\n",
       "      <th>SaleCondition__Family</th>\n",
       "      <th>SaleCondition__Normal</th>\n",
       "      <th>SaleCondition__Partial</th>\n",
       "    </tr>\n",
       "  </thead>\n",
       "  <tbody>\n",
       "    <tr>\n",
       "      <th>798</th>\n",
       "      <td>799</td>\n",
       "      <td>60</td>\n",
       "      <td>104.0</td>\n",
       "      <td>13518</td>\n",
       "      <td>9</td>\n",
       "      <td>5</td>\n",
       "      <td>2008</td>\n",
       "      <td>2009</td>\n",
       "      <td>860.0</td>\n",
       "      <td>0</td>\n",
       "      <td>...</td>\n",
       "      <td>0</td>\n",
       "      <td>1</td>\n",
       "      <td>0</td>\n",
       "      <td>0</td>\n",
       "      <td>0</td>\n",
       "      <td>0</td>\n",
       "      <td>0</td>\n",
       "      <td>0</td>\n",
       "      <td>0</td>\n",
       "      <td>1</td>\n",
       "    </tr>\n",
       "    <tr>\n",
       "      <th>228</th>\n",
       "      <td>229</td>\n",
       "      <td>20</td>\n",
       "      <td>70.0</td>\n",
       "      <td>8521</td>\n",
       "      <td>5</td>\n",
       "      <td>5</td>\n",
       "      <td>1967</td>\n",
       "      <td>1967</td>\n",
       "      <td>0.0</td>\n",
       "      <td>842</td>\n",
       "      <td>...</td>\n",
       "      <td>0</td>\n",
       "      <td>0</td>\n",
       "      <td>0</td>\n",
       "      <td>1</td>\n",
       "      <td>0</td>\n",
       "      <td>0</td>\n",
       "      <td>0</td>\n",
       "      <td>0</td>\n",
       "      <td>1</td>\n",
       "      <td>0</td>\n",
       "    </tr>\n",
       "    <tr>\n",
       "      <th>163</th>\n",
       "      <td>164</td>\n",
       "      <td>45</td>\n",
       "      <td>55.0</td>\n",
       "      <td>5500</td>\n",
       "      <td>4</td>\n",
       "      <td>6</td>\n",
       "      <td>1956</td>\n",
       "      <td>1956</td>\n",
       "      <td>0.0</td>\n",
       "      <td>0</td>\n",
       "      <td>...</td>\n",
       "      <td>0</td>\n",
       "      <td>0</td>\n",
       "      <td>0</td>\n",
       "      <td>1</td>\n",
       "      <td>0</td>\n",
       "      <td>0</td>\n",
       "      <td>0</td>\n",
       "      <td>0</td>\n",
       "      <td>1</td>\n",
       "      <td>0</td>\n",
       "    </tr>\n",
       "    <tr>\n",
       "      <th>1314</th>\n",
       "      <td>1315</td>\n",
       "      <td>20</td>\n",
       "      <td>60.0</td>\n",
       "      <td>8190</td>\n",
       "      <td>4</td>\n",
       "      <td>6</td>\n",
       "      <td>1954</td>\n",
       "      <td>1954</td>\n",
       "      <td>0.0</td>\n",
       "      <td>732</td>\n",
       "      <td>...</td>\n",
       "      <td>0</td>\n",
       "      <td>0</td>\n",
       "      <td>0</td>\n",
       "      <td>1</td>\n",
       "      <td>0</td>\n",
       "      <td>0</td>\n",
       "      <td>0</td>\n",
       "      <td>0</td>\n",
       "      <td>1</td>\n",
       "      <td>0</td>\n",
       "    </tr>\n",
       "    <tr>\n",
       "      <th>993</th>\n",
       "      <td>994</td>\n",
       "      <td>60</td>\n",
       "      <td>68.0</td>\n",
       "      <td>8846</td>\n",
       "      <td>6</td>\n",
       "      <td>5</td>\n",
       "      <td>2005</td>\n",
       "      <td>2006</td>\n",
       "      <td>0.0</td>\n",
       "      <td>0</td>\n",
       "      <td>...</td>\n",
       "      <td>0</td>\n",
       "      <td>1</td>\n",
       "      <td>0</td>\n",
       "      <td>0</td>\n",
       "      <td>0</td>\n",
       "      <td>0</td>\n",
       "      <td>0</td>\n",
       "      <td>0</td>\n",
       "      <td>0</td>\n",
       "      <td>1</td>\n",
       "    </tr>\n",
       "  </tbody>\n",
       "</table>\n",
       "<p>5 rows × 290 columns</p>\n",
       "</div>"
      ],
      "text/plain": [
       "        Id  MSSubClass  LotFrontage  LotArea  OverallQual  OverallCond  \\\n",
       "798    799          60        104.0    13518            9            5   \n",
       "228    229          20         70.0     8521            5            5   \n",
       "163    164          45         55.0     5500            4            6   \n",
       "1314  1315          20         60.0     8190            4            6   \n",
       "993    994          60         68.0     8846            6            5   \n",
       "\n",
       "      YearBuilt  YearRemodAdd  MasVnrArea  BsmtFinSF1           ...            \\\n",
       "798        2008          2009       860.0           0           ...             \n",
       "228        1967          1967         0.0         842           ...             \n",
       "163        1956          1956         0.0           0           ...             \n",
       "1314       1954          1954         0.0         732           ...             \n",
       "993        2005          2006         0.0           0           ...             \n",
       "\n",
       "      SaleType__ConLw  SaleType__New  SaleType__Oth  SaleType__WD  \\\n",
       "798                 0              1              0             0   \n",
       "228                 0              0              0             1   \n",
       "163                 0              0              0             1   \n",
       "1314                0              0              0             1   \n",
       "993                 0              1              0             0   \n",
       "\n",
       "      SaleCondition__Abnorml  SaleCondition__AdjLand  SaleCondition__Alloca  \\\n",
       "798                        0                       0                      0   \n",
       "228                        0                       0                      0   \n",
       "163                        0                       0                      0   \n",
       "1314                       0                       0                      0   \n",
       "993                        0                       0                      0   \n",
       "\n",
       "      SaleCondition__Family  SaleCondition__Normal  SaleCondition__Partial  \n",
       "798                       0                      0                       1  \n",
       "228                       0                      1                       0  \n",
       "163                       0                      1                       0  \n",
       "1314                      0                      1                       0  \n",
       "993                       0                      0                       1  \n",
       "\n",
       "[5 rows x 290 columns]"
      ]
     },
     "execution_count": 8,
     "metadata": {},
     "output_type": "execute_result"
    }
   ],
   "source": [
    "train.sample(5)"
   ]
  },
  {
   "cell_type": "code",
   "execution_count": 9,
   "metadata": {},
   "outputs": [
    {
     "data": {
      "text/html": [
       "<div>\n",
       "<style scoped>\n",
       "    .dataframe tbody tr th:only-of-type {\n",
       "        vertical-align: middle;\n",
       "    }\n",
       "\n",
       "    .dataframe tbody tr th {\n",
       "        vertical-align: top;\n",
       "    }\n",
       "\n",
       "    .dataframe thead th {\n",
       "        text-align: right;\n",
       "    }\n",
       "</style>\n",
       "<table border=\"1\" class=\"dataframe\">\n",
       "  <thead>\n",
       "    <tr style=\"text-align: right;\">\n",
       "      <th></th>\n",
       "      <th>Id</th>\n",
       "      <th>MSSubClass</th>\n",
       "      <th>LotFrontage</th>\n",
       "      <th>LotArea</th>\n",
       "      <th>OverallQual</th>\n",
       "      <th>OverallCond</th>\n",
       "      <th>YearBuilt</th>\n",
       "      <th>YearRemodAdd</th>\n",
       "      <th>MasVnrArea</th>\n",
       "      <th>BsmtFinSF1</th>\n",
       "      <th>...</th>\n",
       "      <th>SaleType__ConLw</th>\n",
       "      <th>SaleType__New</th>\n",
       "      <th>SaleType__Oth</th>\n",
       "      <th>SaleType__WD</th>\n",
       "      <th>SaleCondition__Abnorml</th>\n",
       "      <th>SaleCondition__AdjLand</th>\n",
       "      <th>SaleCondition__Alloca</th>\n",
       "      <th>SaleCondition__Family</th>\n",
       "      <th>SaleCondition__Normal</th>\n",
       "      <th>SaleCondition__Partial</th>\n",
       "    </tr>\n",
       "  </thead>\n",
       "  <tbody>\n",
       "    <tr>\n",
       "      <th>1354</th>\n",
       "      <td>2815</td>\n",
       "      <td>30</td>\n",
       "      <td>0.0</td>\n",
       "      <td>17529</td>\n",
       "      <td>5</td>\n",
       "      <td>5</td>\n",
       "      <td>1924</td>\n",
       "      <td>1950</td>\n",
       "      <td>65.0</td>\n",
       "      <td>0.0</td>\n",
       "      <td>...</td>\n",
       "      <td>0</td>\n",
       "      <td>0</td>\n",
       "      <td>0</td>\n",
       "      <td>1</td>\n",
       "      <td>0</td>\n",
       "      <td>0</td>\n",
       "      <td>0</td>\n",
       "      <td>0</td>\n",
       "      <td>1</td>\n",
       "      <td>0</td>\n",
       "    </tr>\n",
       "    <tr>\n",
       "      <th>1426</th>\n",
       "      <td>2887</td>\n",
       "      <td>30</td>\n",
       "      <td>50.0</td>\n",
       "      <td>7288</td>\n",
       "      <td>5</td>\n",
       "      <td>6</td>\n",
       "      <td>1942</td>\n",
       "      <td>1950</td>\n",
       "      <td>0.0</td>\n",
       "      <td>305.0</td>\n",
       "      <td>...</td>\n",
       "      <td>0</td>\n",
       "      <td>0</td>\n",
       "      <td>0</td>\n",
       "      <td>1</td>\n",
       "      <td>0</td>\n",
       "      <td>1</td>\n",
       "      <td>0</td>\n",
       "      <td>0</td>\n",
       "      <td>0</td>\n",
       "      <td>0</td>\n",
       "    </tr>\n",
       "    <tr>\n",
       "      <th>118</th>\n",
       "      <td>1579</td>\n",
       "      <td>85</td>\n",
       "      <td>82.0</td>\n",
       "      <td>11105</td>\n",
       "      <td>5</td>\n",
       "      <td>5</td>\n",
       "      <td>1996</td>\n",
       "      <td>1996</td>\n",
       "      <td>0.0</td>\n",
       "      <td>870.0</td>\n",
       "      <td>...</td>\n",
       "      <td>0</td>\n",
       "      <td>0</td>\n",
       "      <td>0</td>\n",
       "      <td>1</td>\n",
       "      <td>0</td>\n",
       "      <td>0</td>\n",
       "      <td>0</td>\n",
       "      <td>0</td>\n",
       "      <td>1</td>\n",
       "      <td>0</td>\n",
       "    </tr>\n",
       "    <tr>\n",
       "      <th>862</th>\n",
       "      <td>2323</td>\n",
       "      <td>80</td>\n",
       "      <td>65.0</td>\n",
       "      <td>16219</td>\n",
       "      <td>7</td>\n",
       "      <td>5</td>\n",
       "      <td>2004</td>\n",
       "      <td>2005</td>\n",
       "      <td>0.0</td>\n",
       "      <td>779.0</td>\n",
       "      <td>...</td>\n",
       "      <td>0</td>\n",
       "      <td>0</td>\n",
       "      <td>0</td>\n",
       "      <td>1</td>\n",
       "      <td>0</td>\n",
       "      <td>0</td>\n",
       "      <td>0</td>\n",
       "      <td>0</td>\n",
       "      <td>1</td>\n",
       "      <td>0</td>\n",
       "    </tr>\n",
       "    <tr>\n",
       "      <th>1240</th>\n",
       "      <td>2701</td>\n",
       "      <td>60</td>\n",
       "      <td>0.0</td>\n",
       "      <td>9019</td>\n",
       "      <td>6</td>\n",
       "      <td>5</td>\n",
       "      <td>1994</td>\n",
       "      <td>1994</td>\n",
       "      <td>0.0</td>\n",
       "      <td>274.0</td>\n",
       "      <td>...</td>\n",
       "      <td>0</td>\n",
       "      <td>0</td>\n",
       "      <td>0</td>\n",
       "      <td>1</td>\n",
       "      <td>0</td>\n",
       "      <td>0</td>\n",
       "      <td>0</td>\n",
       "      <td>0</td>\n",
       "      <td>1</td>\n",
       "      <td>0</td>\n",
       "    </tr>\n",
       "  </tbody>\n",
       "</table>\n",
       "<p>5 rows × 289 columns</p>\n",
       "</div>"
      ],
      "text/plain": [
       "        Id  MSSubClass  LotFrontage  LotArea  OverallQual  OverallCond  \\\n",
       "1354  2815          30          0.0    17529            5            5   \n",
       "1426  2887          30         50.0     7288            5            6   \n",
       "118   1579          85         82.0    11105            5            5   \n",
       "862   2323          80         65.0    16219            7            5   \n",
       "1240  2701          60          0.0     9019            6            5   \n",
       "\n",
       "      YearBuilt  YearRemodAdd  MasVnrArea  BsmtFinSF1           ...            \\\n",
       "1354       1924          1950        65.0         0.0           ...             \n",
       "1426       1942          1950         0.0       305.0           ...             \n",
       "118        1996          1996         0.0       870.0           ...             \n",
       "862        2004          2005         0.0       779.0           ...             \n",
       "1240       1994          1994         0.0       274.0           ...             \n",
       "\n",
       "      SaleType__ConLw  SaleType__New  SaleType__Oth  SaleType__WD  \\\n",
       "1354                0              0              0             1   \n",
       "1426                0              0              0             1   \n",
       "118                 0              0              0             1   \n",
       "862                 0              0              0             1   \n",
       "1240                0              0              0             1   \n",
       "\n",
       "      SaleCondition__Abnorml  SaleCondition__AdjLand  SaleCondition__Alloca  \\\n",
       "1354                       0                       0                      0   \n",
       "1426                       0                       1                      0   \n",
       "118                        0                       0                      0   \n",
       "862                        0                       0                      0   \n",
       "1240                       0                       0                      0   \n",
       "\n",
       "      SaleCondition__Family  SaleCondition__Normal  SaleCondition__Partial  \n",
       "1354                      0                      1                       0  \n",
       "1426                      0                      0                       0  \n",
       "118                       0                      1                       0  \n",
       "862                       0                      1                       0  \n",
       "1240                      0                      1                       0  \n",
       "\n",
       "[5 rows x 289 columns]"
      ]
     },
     "execution_count": 9,
     "metadata": {},
     "output_type": "execute_result"
    }
   ],
   "source": [
    "test.sample(5)"
   ]
  },
  {
   "cell_type": "code",
   "execution_count": null,
   "metadata": {},
   "outputs": [],
   "source": []
  },
  {
   "cell_type": "code",
   "execution_count": 10,
   "metadata": {},
   "outputs": [],
   "source": [
    "# X_train = np.asarray(train[['LotArea', 'LotFrontage']]).astype(np.float32)\n",
    "# y_train = np.asarray(train['SalePrice']).astype(np.float32)\n",
    "\n",
    "#x_values = [i for i in range(11*2)]\n",
    "X_train = np.array(np.asarray(train.drop(['SalePrice'], axis=1)), dtype=np.float32)\n",
    "\n",
    "#y_values = [2*i + 1 for i in range(11)]\n",
    "y_train = np.array(np.asarray(train['SalePrice'].fillna(0)), dtype=np.float32)\n"
   ]
  },
  {
   "cell_type": "code",
   "execution_count": 12,
   "metadata": {},
   "outputs": [
    {
     "data": {
      "text/plain": [
       "(1460, 289)"
      ]
     },
     "execution_count": 12,
     "metadata": {},
     "output_type": "execute_result"
    }
   ],
   "source": [
    "X_train.shape"
   ]
  },
  {
   "cell_type": "code",
   "execution_count": 13,
   "metadata": {},
   "outputs": [
    {
     "data": {
      "text/plain": [
       "(1460,)"
      ]
     },
     "execution_count": 13,
     "metadata": {},
     "output_type": "execute_result"
    }
   ],
   "source": [
    "y_train.shape"
   ]
  },
  {
   "cell_type": "code",
   "execution_count": 142,
   "metadata": {},
   "outputs": [],
   "source": [
    "from sklearn.linear_model import LinearRegression\n",
    "from sklearn.tree import DecisionTreeRegressor\n",
    "from sklearn.ensemble import RandomForestRegressor\n",
    "from sklearn.model_selection import cross_val_score"
   ]
  },
  {
   "cell_type": "code",
   "execution_count": 167,
   "metadata": {},
   "outputs": [
    {
     "data": {
      "text/plain": [
       "0.9815120940855117"
      ]
     },
     "execution_count": 167,
     "metadata": {},
     "output_type": "execute_result"
    }
   ],
   "source": [
    "reg = RandomForestRegressor(max_depth=200, n_estimators=5000, n_jobs=-1)\n",
    "reg.fit(X_train, y_train)\n"
   ]
  },
  {
   "cell_type": "code",
   "execution_count": null,
   "metadata": {},
   "outputs": [],
   "source": [
    "reg.score(X_train, y_train)"
   ]
  },
  {
   "cell_type": "code",
   "execution_count": 168,
   "metadata": {},
   "outputs": [
    {
     "data": {
      "text/plain": [
       "array([0.88695021, 0.85065336, 0.82462337])"
      ]
     },
     "execution_count": 168,
     "metadata": {},
     "output_type": "execute_result"
    }
   ],
   "source": [
    "cross_val_score(reg, X_train, y_train, cv=3)"
   ]
  },
  {
   "cell_type": "code",
   "execution_count": 164,
   "metadata": {},
   "outputs": [],
   "source": [
    "# output = train.copy()\n",
    "# output['SalePrice_pred'] = reg.predict(output.drop(['SalePrice'], axis=1))\n",
    "# output[['SalePrice', 'SalePrice_pred']].sample(15)"
   ]
  },
  {
   "cell_type": "code",
   "execution_count": 169,
   "metadata": {},
   "outputs": [],
   "source": [
    "output = test.copy()\n",
    "\n",
    "output['SalePrice'] = reg.predict(output)\n",
    "output[['Id', 'SalePrice']].to_csv('my_submission.csv', index=False)"
   ]
  },
  {
   "cell_type": "code",
   "execution_count": 292,
   "metadata": {},
   "outputs": [],
   "source": [
    "import torch.nn as nn\n",
    "import torch.nn.functional as F\n",
    "import torch\n",
    "\n",
    "class Net(nn.Module):\n",
    "    def __init__(self):\n",
    "        super(Net, self).__init__()\n",
    "        self.fc1 = nn.Linear(289, 144)\n",
    "        self.fc2 = nn.Linear(144, 72)\n",
    "        self.fc3 = nn.Linear(72, 36)\n",
    "        self.fc4 = nn.Linear(36, 18)\n",
    "        self.fc5 = nn.Linear(18, 1)\n",
    "\n",
    "    def forward(self, x):\n",
    "        x = (self.fc1(x))\n",
    "        x = (self.fc2(x))\n",
    "        x = (self.fc3(x))\n",
    "        x = (self.fc4(x))\n",
    "        x = (self.fc5(x))\n",
    "        return x\n",
    "    \n"
   ]
  },
  {
   "cell_type": "code",
   "execution_count": 299,
   "metadata": {},
   "outputs": [
    {
     "data": {
      "text/plain": [
       "tensor([[-41.2136],\n",
       "        [-38.0575],\n",
       "        [-46.4659],\n",
       "        ...,\n",
       "        [-58.9491],\n",
       "        [-45.7229],\n",
       "        [-46.5732]], grad_fn=<AddmmBackward>)"
      ]
     },
     "execution_count": 299,
     "metadata": {},
     "output_type": "execute_result"
    }
   ],
   "source": [
    "net = Net()\n",
    "net(torch.from_numpy(X_train))"
   ]
  },
  {
   "cell_type": "code",
   "execution_count": 294,
   "metadata": {},
   "outputs": [],
   "source": [
    "import torch.optim as optim\n",
    "\n",
    "\n",
    "# optimizer = optim.Adam(net.parameters(), lr=0.01)\n",
    "# loss_function = nn.MSELoss()\n",
    "\n",
    "loss_function = torch.nn.MSELoss() \n",
    "optimizer = torch.optim.SGD(net.parameters(), lr=0.01)\n",
    "\n"
   ]
  },
  {
   "cell_type": "code",
   "execution_count": null,
   "metadata": {},
   "outputs": [],
   "source": []
  },
  {
   "cell_type": "code",
   "execution_count": 295,
   "metadata": {},
   "outputs": [
    {
     "data": {
      "text/plain": [
       "tensor([0.2762, 0.2404, 0.2960,  ..., 0.3530, 0.1882, 0.1954])"
      ]
     },
     "execution_count": 295,
     "metadata": {},
     "output_type": "execute_result"
    }
   ],
   "source": [
    "X_train_tensor = torch.from_numpy(X_train)\n",
    "y_train_tensor = torch.from_numpy(y_train)\n",
    "\n",
    "# scale units\n",
    "X_max, _ = torch.max(X_train_tensor, 0)\n",
    "y_max, _ = torch.max(y_train_tensor, 0)\n",
    "\n",
    "X_train_norm = torch.div(X_train_tensor, X_max)\n",
    "y_train_norm = torch.div(y_train_tensor, y_max)\n",
    "\n",
    "y_train_norm"
   ]
  },
  {
   "cell_type": "code",
   "execution_count": 296,
   "metadata": {},
   "outputs": [
    {
     "name": "stderr",
     "output_type": "stream",
     "text": [
      "100%|██████████| 292/292 [00:00<00:00, 646.76it/s]\n",
      " 29%|██▉       | 86/292 [00:00<00:00, 854.50it/s]"
     ]
    },
    {
     "name": "stdout",
     "output_type": "stream",
     "text": [
      "epoch 0, loss 0.004516032990068197\n"
     ]
    },
    {
     "name": "stderr",
     "output_type": "stream",
     "text": [
      "100%|██████████| 292/292 [00:00<00:00, 851.07it/s]\n",
      " 29%|██▉       | 86/292 [00:00<00:00, 859.89it/s]"
     ]
    },
    {
     "name": "stdout",
     "output_type": "stream",
     "text": [
      "epoch 1, loss 0.004474537447094917\n"
     ]
    },
    {
     "name": "stderr",
     "output_type": "stream",
     "text": [
      "100%|██████████| 292/292 [00:00<00:00, 798.76it/s]\n",
      " 26%|██▋       | 77/292 [00:00<00:00, 769.26it/s]"
     ]
    },
    {
     "name": "stdout",
     "output_type": "stream",
     "text": [
      "epoch 2, loss 0.004439873155206442\n"
     ]
    },
    {
     "name": "stderr",
     "output_type": "stream",
     "text": [
      "100%|██████████| 292/292 [00:00<00:00, 814.88it/s]\n",
      " 31%|███       | 91/292 [00:00<00:00, 904.55it/s]"
     ]
    },
    {
     "name": "stdout",
     "output_type": "stream",
     "text": [
      "epoch 3, loss 0.004408007953315973\n"
     ]
    },
    {
     "name": "stderr",
     "output_type": "stream",
     "text": [
      "100%|██████████| 292/292 [00:00<00:00, 817.21it/s]\n",
      " 29%|██▉       | 85/292 [00:00<00:00, 846.99it/s]"
     ]
    },
    {
     "name": "stdout",
     "output_type": "stream",
     "text": [
      "epoch 4, loss 0.004377728793770075\n"
     ]
    },
    {
     "name": "stderr",
     "output_type": "stream",
     "text": [
      "100%|██████████| 292/292 [00:00<00:00, 679.00it/s]\n",
      " 30%|███       | 88/292 [00:00<00:00, 874.19it/s]"
     ]
    },
    {
     "name": "stdout",
     "output_type": "stream",
     "text": [
      "epoch 5, loss 0.004348851274698973\n"
     ]
    },
    {
     "name": "stderr",
     "output_type": "stream",
     "text": [
      "100%|██████████| 292/292 [00:00<00:00, 735.73it/s]\n",
      " 20%|█▉        | 57/292 [00:00<00:00, 569.49it/s]"
     ]
    },
    {
     "name": "stdout",
     "output_type": "stream",
     "text": [
      "epoch 6, loss 0.00432150112465024\n"
     ]
    },
    {
     "name": "stderr",
     "output_type": "stream",
     "text": [
      "100%|██████████| 292/292 [00:00<00:00, 747.50it/s]\n",
      " 62%|██████▏   | 182/292 [00:00<00:00, 896.18it/s]"
     ]
    },
    {
     "name": "stdout",
     "output_type": "stream",
     "text": [
      "epoch 7, loss 0.004295828752219677\n"
     ]
    },
    {
     "name": "stderr",
     "output_type": "stream",
     "text": [
      "100%|██████████| 292/292 [00:00<00:00, 772.79it/s]\n",
      " 12%|█▏        | 35/292 [00:00<00:00, 348.01it/s]"
     ]
    },
    {
     "name": "stdout",
     "output_type": "stream",
     "text": [
      "epoch 8, loss 0.004271920304745436\n"
     ]
    },
    {
     "name": "stderr",
     "output_type": "stream",
     "text": [
      "100%|██████████| 292/292 [00:00<00:00, 642.53it/s]\n",
      " 18%|█▊        | 52/292 [00:00<00:00, 519.74it/s]"
     ]
    },
    {
     "name": "stdout",
     "output_type": "stream",
     "text": [
      "epoch 9, loss 0.004249796736985445\n"
     ]
    },
    {
     "name": "stderr",
     "output_type": "stream",
     "text": [
      "100%|██████████| 292/292 [00:00<00:00, 570.14it/s]\n",
      " 26%|██▋       | 77/292 [00:00<00:00, 750.16it/s]"
     ]
    },
    {
     "name": "stdout",
     "output_type": "stream",
     "text": [
      "epoch 10, loss 0.004229415208101273\n"
     ]
    },
    {
     "name": "stderr",
     "output_type": "stream",
     "text": [
      "100%|██████████| 292/292 [00:00<00:00, 803.64it/s]\n",
      " 21%|██        | 61/292 [00:00<00:00, 603.17it/s]"
     ]
    },
    {
     "name": "stdout",
     "output_type": "stream",
     "text": [
      "epoch 11, loss 0.004210697021335363\n"
     ]
    },
    {
     "name": "stderr",
     "output_type": "stream",
     "text": [
      "100%|██████████| 292/292 [00:00<00:00, 716.20it/s]\n",
      " 18%|█▊        | 53/292 [00:00<00:00, 526.87it/s]"
     ]
    },
    {
     "name": "stdout",
     "output_type": "stream",
     "text": [
      "epoch 12, loss 0.004193537402898073\n"
     ]
    },
    {
     "name": "stderr",
     "output_type": "stream",
     "text": [
      "100%|██████████| 292/292 [00:00<00:00, 744.75it/s]\n",
      " 32%|███▏      | 92/292 [00:00<00:00, 916.65it/s]"
     ]
    },
    {
     "name": "stdout",
     "output_type": "stream",
     "text": [
      "epoch 13, loss 0.004177824594080448\n"
     ]
    },
    {
     "name": "stderr",
     "output_type": "stream",
     "text": [
      "100%|██████████| 292/292 [00:00<00:00, 743.25it/s]\n",
      " 20%|█▉        | 58/292 [00:00<00:00, 574.50it/s]"
     ]
    },
    {
     "name": "stdout",
     "output_type": "stream",
     "text": [
      "epoch 14, loss 0.0041634393855929375\n"
     ]
    },
    {
     "name": "stderr",
     "output_type": "stream",
     "text": [
      "100%|██████████| 292/292 [00:00<00:00, 623.51it/s]\n",
      " 28%|██▊       | 83/292 [00:00<00:00, 826.66it/s]"
     ]
    },
    {
     "name": "stdout",
     "output_type": "stream",
     "text": [
      "epoch 15, loss 0.0041502695530653\n"
     ]
    },
    {
     "name": "stderr",
     "output_type": "stream",
     "text": [
      "100%|██████████| 292/292 [00:00<00:00, 624.17it/s]\n",
      " 19%|█▉        | 55/292 [00:00<00:00, 541.12it/s]"
     ]
    },
    {
     "name": "stdout",
     "output_type": "stream",
     "text": [
      "epoch 16, loss 0.004138204734772444\n"
     ]
    },
    {
     "name": "stderr",
     "output_type": "stream",
     "text": [
      "100%|██████████| 292/292 [00:00<00:00, 538.78it/s]\n",
      " 20%|██        | 59/292 [00:00<00:00, 583.78it/s]"
     ]
    },
    {
     "name": "stdout",
     "output_type": "stream",
     "text": [
      "epoch 17, loss 0.00412714621052146\n"
     ]
    },
    {
     "name": "stderr",
     "output_type": "stream",
     "text": [
      "100%|██████████| 292/292 [00:00<00:00, 806.20it/s]\n",
      " 26%|██▋       | 77/292 [00:00<00:00, 334.07it/s]"
     ]
    },
    {
     "name": "stdout",
     "output_type": "stream",
     "text": [
      "epoch 18, loss 0.004116999451071024\n"
     ]
    },
    {
     "name": "stderr",
     "output_type": "stream",
     "text": [
      "100%|██████████| 292/292 [00:00<00:00, 583.90it/s]\n",
      " 64%|██████▍   | 187/292 [00:00<00:00, 907.57it/s]"
     ]
    },
    {
     "name": "stdout",
     "output_type": "stream",
     "text": [
      "epoch 19, loss 0.004107680171728134\n"
     ]
    },
    {
     "name": "stderr",
     "output_type": "stream",
     "text": [
      "100%|██████████| 292/292 [00:00<00:00, 872.19it/s]\n",
      " 26%|██▋       | 77/292 [00:00<00:00, 767.82it/s]"
     ]
    },
    {
     "name": "stdout",
     "output_type": "stream",
     "text": [
      "epoch 20, loss 0.0040991115383803844\n"
     ]
    },
    {
     "name": "stderr",
     "output_type": "stream",
     "text": [
      "100%|██████████| 292/292 [00:00<00:00, 742.41it/s]\n",
      " 17%|█▋        | 49/292 [00:00<00:00, 484.66it/s]"
     ]
    },
    {
     "name": "stdout",
     "output_type": "stream",
     "text": [
      "epoch 21, loss 0.004091224167495966\n"
     ]
    },
    {
     "name": "stderr",
     "output_type": "stream",
     "text": [
      "100%|██████████| 292/292 [00:00<00:00, 750.85it/s]\n",
      " 32%|███▏      | 93/292 [00:00<00:00, 929.89it/s]"
     ]
    },
    {
     "name": "stdout",
     "output_type": "stream",
     "text": [
      "epoch 22, loss 0.004083954729139805\n"
     ]
    },
    {
     "name": "stderr",
     "output_type": "stream",
     "text": [
      "100%|██████████| 292/292 [00:00<00:00, 814.92it/s]\n",
      " 23%|██▎       | 68/292 [00:00<00:00, 679.52it/s]"
     ]
    },
    {
     "name": "stdout",
     "output_type": "stream",
     "text": [
      "epoch 23, loss 0.004077245946973562\n"
     ]
    },
    {
     "name": "stderr",
     "output_type": "stream",
     "text": [
      "100%|██████████| 292/292 [00:00<00:00, 628.05it/s]\n",
      " 21%|██        | 62/292 [00:00<00:00, 611.82it/s]"
     ]
    },
    {
     "name": "stdout",
     "output_type": "stream",
     "text": [
      "epoch 24, loss 0.0040710498578846455\n"
     ]
    },
    {
     "name": "stderr",
     "output_type": "stream",
     "text": [
      "100%|██████████| 292/292 [00:00<00:00, 689.95it/s]\n",
      " 25%|██▍       | 72/292 [00:00<00:00, 718.05it/s]"
     ]
    },
    {
     "name": "stdout",
     "output_type": "stream",
     "text": [
      "epoch 25, loss 0.004065319895744324\n"
     ]
    },
    {
     "name": "stderr",
     "output_type": "stream",
     "text": [
      "100%|██████████| 292/292 [00:00<00:00, 568.53it/s]\n",
      " 25%|██▌       | 74/292 [00:00<00:00, 734.53it/s]"
     ]
    },
    {
     "name": "stdout",
     "output_type": "stream",
     "text": [
      "epoch 26, loss 0.004060013685375452\n"
     ]
    },
    {
     "name": "stderr",
     "output_type": "stream",
     "text": [
      "100%|██████████| 292/292 [00:00<00:00, 862.04it/s]\n",
      " 29%|██▉       | 84/292 [00:00<00:00, 838.06it/s]"
     ]
    },
    {
     "name": "stdout",
     "output_type": "stream",
     "text": [
      "epoch 27, loss 0.004055094439536333\n"
     ]
    },
    {
     "name": "stderr",
     "output_type": "stream",
     "text": [
      "100%|██████████| 292/292 [00:00<00:00, 731.03it/s]\n",
      " 25%|██▌       | 73/292 [00:00<00:00, 725.32it/s]"
     ]
    },
    {
     "name": "stdout",
     "output_type": "stream",
     "text": [
      "epoch 28, loss 0.00405053049325943\n"
     ]
    },
    {
     "name": "stderr",
     "output_type": "stream",
     "text": [
      "100%|██████████| 292/292 [00:00<00:00, 825.35it/s]\n",
      " 29%|██▉       | 86/292 [00:00<00:00, 857.33it/s]"
     ]
    },
    {
     "name": "stdout",
     "output_type": "stream",
     "text": [
      "epoch 29, loss 0.004046291578561068\n"
     ]
    },
    {
     "name": "stderr",
     "output_type": "stream",
     "text": [
      "100%|██████████| 292/292 [00:00<00:00, 858.46it/s]\n",
      " 61%|██████▏   | 179/292 [00:00<00:00, 872.91it/s]"
     ]
    },
    {
     "name": "stdout",
     "output_type": "stream",
     "text": [
      "epoch 30, loss 0.004042347893118858\n"
     ]
    },
    {
     "name": "stderr",
     "output_type": "stream",
     "text": [
      "100%|██████████| 292/292 [00:00<00:00, 870.98it/s]\n",
      " 29%|██▉       | 86/292 [00:00<00:00, 855.07it/s]"
     ]
    },
    {
     "name": "stdout",
     "output_type": "stream",
     "text": [
      "epoch 31, loss 0.004038678016513586\n"
     ]
    },
    {
     "name": "stderr",
     "output_type": "stream",
     "text": [
      "100%|██████████| 292/292 [00:00<00:00, 920.94it/s]\n",
      " 34%|███▎      | 98/292 [00:00<00:00, 974.31it/s]"
     ]
    },
    {
     "name": "stdout",
     "output_type": "stream",
     "text": [
      "epoch 32, loss 0.004035259131342173\n"
     ]
    },
    {
     "name": "stderr",
     "output_type": "stream",
     "text": [
      "100%|██████████| 292/292 [00:00<00:00, 930.91it/s]\n",
      " 25%|██▌       | 73/292 [00:00<00:00, 723.06it/s]"
     ]
    },
    {
     "name": "stdout",
     "output_type": "stream",
     "text": [
      "epoch 33, loss 0.004032070282846689\n"
     ]
    },
    {
     "name": "stderr",
     "output_type": "stream",
     "text": [
      "100%|██████████| 292/292 [00:00<00:00, 788.94it/s]\n",
      " 30%|███       | 88/292 [00:00<00:00, 870.64it/s]"
     ]
    },
    {
     "name": "stdout",
     "output_type": "stream",
     "text": [
      "epoch 34, loss 0.004029094707220793\n"
     ]
    },
    {
     "name": "stderr",
     "output_type": "stream",
     "text": [
      "100%|██████████| 292/292 [00:00<00:00, 793.57it/s]\n",
      " 23%|██▎       | 66/292 [00:00<00:00, 655.43it/s]"
     ]
    },
    {
     "name": "stdout",
     "output_type": "stream",
     "text": [
      "epoch 35, loss 0.004026313778012991\n"
     ]
    },
    {
     "name": "stderr",
     "output_type": "stream",
     "text": [
      "100%|██████████| 292/292 [00:00<00:00, 571.96it/s]\n",
      " 20%|██        | 59/292 [00:00<00:00, 586.42it/s]"
     ]
    },
    {
     "name": "stdout",
     "output_type": "stream",
     "text": [
      "epoch 36, loss 0.004023714456707239\n"
     ]
    },
    {
     "name": "stderr",
     "output_type": "stream",
     "text": [
      "100%|██████████| 292/292 [00:00<00:00, 630.95it/s]\n",
      " 25%|██▍       | 72/292 [00:00<00:00, 708.99it/s]"
     ]
    },
    {
     "name": "stdout",
     "output_type": "stream",
     "text": [
      "epoch 37, loss 0.004021282307803631\n"
     ]
    },
    {
     "name": "stderr",
     "output_type": "stream",
     "text": [
      "100%|██████████| 292/292 [00:00<00:00, 559.59it/s]\n",
      " 27%|██▋       | 78/292 [00:00<00:00, 779.30it/s]"
     ]
    },
    {
     "name": "stdout",
     "output_type": "stream",
     "text": [
      "epoch 38, loss 0.004019003827124834\n"
     ]
    },
    {
     "name": "stderr",
     "output_type": "stream",
     "text": [
      "100%|██████████| 292/292 [00:00<00:00, 500.88it/s]\n",
      " 32%|███▏      | 92/292 [00:00<00:00, 911.43it/s]"
     ]
    },
    {
     "name": "stdout",
     "output_type": "stream",
     "text": [
      "epoch 39, loss 0.004016870632767677\n"
     ]
    },
    {
     "name": "stderr",
     "output_type": "stream",
     "text": [
      "100%|██████████| 292/292 [00:00<00:00, 928.56it/s]\n",
      " 24%|██▍       | 71/292 [00:00<00:00, 703.92it/s]"
     ]
    },
    {
     "name": "stdout",
     "output_type": "stream",
     "text": [
      "epoch 40, loss 0.004014869686216116\n"
     ]
    },
    {
     "name": "stderr",
     "output_type": "stream",
     "text": [
      "100%|██████████| 292/292 [00:00<00:00, 775.71it/s]\n",
      " 26%|██▌       | 76/292 [00:00<00:00, 710.30it/s]"
     ]
    },
    {
     "name": "stdout",
     "output_type": "stream",
     "text": [
      "epoch 41, loss 0.004012993071228266\n"
     ]
    },
    {
     "name": "stderr",
     "output_type": "stream",
     "text": [
      "100%|██████████| 292/292 [00:00<00:00, 784.21it/s]\n",
      " 33%|███▎      | 97/292 [00:00<00:00, 965.37it/s]"
     ]
    },
    {
     "name": "stdout",
     "output_type": "stream",
     "text": [
      "epoch 42, loss 0.004011231474578381\n"
     ]
    },
    {
     "name": "stderr",
     "output_type": "stream",
     "text": [
      "100%|██████████| 292/292 [00:00<00:00, 684.00it/s]\n",
      " 23%|██▎       | 67/292 [00:00<00:00, 662.56it/s]"
     ]
    },
    {
     "name": "stdout",
     "output_type": "stream",
     "text": [
      "epoch 43, loss 0.004009576514363289\n"
     ]
    },
    {
     "name": "stderr",
     "output_type": "stream",
     "text": [
      "100%|██████████| 292/292 [00:00<00:00, 526.74it/s]\n",
      " 29%|██▉       | 85/292 [00:00<00:00, 847.35it/s]"
     ]
    },
    {
     "name": "stdout",
     "output_type": "stream",
     "text": [
      "epoch 44, loss 0.004008021671324968\n"
     ]
    },
    {
     "name": "stderr",
     "output_type": "stream",
     "text": [
      "100%|██████████| 292/292 [00:00<00:00, 572.65it/s]\n",
      " 29%|██▉       | 86/292 [00:00<00:00, 859.19it/s]"
     ]
    },
    {
     "name": "stdout",
     "output_type": "stream",
     "text": [
      "epoch 45, loss 0.004006558563560247\n"
     ]
    },
    {
     "name": "stderr",
     "output_type": "stream",
     "text": [
      "100%|██████████| 292/292 [00:00<00:00, 580.17it/s]\n",
      " 25%|██▌       | 74/292 [00:00<00:00, 736.36it/s]"
     ]
    },
    {
     "name": "stdout",
     "output_type": "stream",
     "text": [
      "epoch 46, loss 0.004005183931440115\n"
     ]
    },
    {
     "name": "stderr",
     "output_type": "stream",
     "text": [
      "100%|██████████| 292/292 [00:00<00:00, 820.21it/s]\n",
      " 23%|██▎       | 67/292 [00:00<00:00, 664.42it/s]"
     ]
    },
    {
     "name": "stdout",
     "output_type": "stream",
     "text": [
      "epoch 47, loss 0.004003890790045261\n"
     ]
    },
    {
     "name": "stderr",
     "output_type": "stream",
     "text": [
      "100%|██████████| 292/292 [00:00<00:00, 686.91it/s]\n",
      " 27%|██▋       | 78/292 [00:00<00:00, 777.14it/s]"
     ]
    },
    {
     "name": "stdout",
     "output_type": "stream",
     "text": [
      "epoch 48, loss 0.004002673085778952\n"
     ]
    },
    {
     "name": "stderr",
     "output_type": "stream",
     "text": [
      "100%|██████████| 292/292 [00:00<00:00, 784.91it/s]"
     ]
    },
    {
     "name": "stdout",
     "output_type": "stream",
     "text": [
      "epoch 49, loss 0.004001527093350887\n"
     ]
    },
    {
     "name": "stderr",
     "output_type": "stream",
     "text": [
      "\n"
     ]
    }
   ],
   "source": [
    "BATCH_SIZE = 5\n",
    "EPOCHS = 50\n",
    "\n",
    "for epoch in range(EPOCHS):\n",
    "    for i in tqdm(range(0, len(X_train_norm), BATCH_SIZE)): # from 0, to the len of x, stepping BATCH_SIZE at a time. [:50] ..for now just to dev\n",
    "        batch_X = (X_train_norm[i:i+BATCH_SIZE]).view(-1, 1, 289)\n",
    "        batch_y = (y_train_norm[i:i+BATCH_SIZE])\n",
    "\n",
    "        net.zero_grad()\n",
    "        \n",
    "        outputs = net(batch_X)\n",
    "        loss = loss_function(outputs, batch_y)\n",
    "        loss.backward()\n",
    "        optimizer.step()    # Does the update\n",
    "        \n",
    "    print('epoch {}, loss {}'.format(epoch, loss.item()))\n"
   ]
  },
  {
   "cell_type": "code",
   "execution_count": 300,
   "metadata": {},
   "outputs": [
    {
     "data": {
      "text/plain": [
       "tensor([[0.1049],\n",
       "        [0.1122],\n",
       "        [0.0972],\n",
       "        ...,\n",
       "        [0.1027],\n",
       "        [0.0819],\n",
       "        [0.0710]], grad_fn=<AddmmBackward>)"
      ]
     },
     "execution_count": 300,
     "metadata": {},
     "output_type": "execute_result"
    }
   ],
   "source": [
    "X_test_tensor = torch.from_numpy(np.asarray(test, dtype=np.float32))\n",
    "X_test_norm = torch.div(X_test_tensor, X_max)\n",
    "\n",
    "yHat = net(X_test_norm)\n",
    "yHat"
   ]
  },
  {
   "cell_type": "code",
   "execution_count": 301,
   "metadata": {},
   "outputs": [
    {
     "data": {
      "text/plain": [
       "tensor([[79223.8438],\n",
       "        [84727.7734],\n",
       "        [73371.7812],\n",
       "        ...,\n",
       "        [77505.0000],\n",
       "        [61857.6016],\n",
       "        [53626.7695]], grad_fn=<MulBackward0>)"
      ]
     },
     "execution_count": 301,
     "metadata": {},
     "output_type": "execute_result"
    }
   ],
   "source": [
    "torch.mul(yHat, y_max)"
   ]
  },
  {
   "cell_type": "code",
   "execution_count": 302,
   "metadata": {},
   "outputs": [],
   "source": [
    "output = test.copy()\n",
    "\n",
    "output['SalePrice'] = torch.mul(yHat, y_max).detach().numpy()\n",
    "output[['Id', 'SalePrice']].to_csv('my_submission_nn.csv', index=False)"
   ]
  },
  {
   "cell_type": "code",
   "execution_count": 303,
   "metadata": {},
   "outputs": [
    {
     "data": {
      "text/html": [
       "<div>\n",
       "<style scoped>\n",
       "    .dataframe tbody tr th:only-of-type {\n",
       "        vertical-align: middle;\n",
       "    }\n",
       "\n",
       "    .dataframe tbody tr th {\n",
       "        vertical-align: top;\n",
       "    }\n",
       "\n",
       "    .dataframe thead th {\n",
       "        text-align: right;\n",
       "    }\n",
       "</style>\n",
       "<table border=\"1\" class=\"dataframe\">\n",
       "  <thead>\n",
       "    <tr style=\"text-align: right;\">\n",
       "      <th></th>\n",
       "      <th>Id</th>\n",
       "      <th>SalePrice</th>\n",
       "    </tr>\n",
       "  </thead>\n",
       "  <tbody>\n",
       "    <tr>\n",
       "      <th>0</th>\n",
       "      <td>1461</td>\n",
       "      <td>79223.843750</td>\n",
       "    </tr>\n",
       "    <tr>\n",
       "      <th>1</th>\n",
       "      <td>1462</td>\n",
       "      <td>84727.773438</td>\n",
       "    </tr>\n",
       "    <tr>\n",
       "      <th>2</th>\n",
       "      <td>1463</td>\n",
       "      <td>73371.781250</td>\n",
       "    </tr>\n",
       "    <tr>\n",
       "      <th>3</th>\n",
       "      <td>1464</td>\n",
       "      <td>80335.687500</td>\n",
       "    </tr>\n",
       "    <tr>\n",
       "      <th>4</th>\n",
       "      <td>1465</td>\n",
       "      <td>89928.632812</td>\n",
       "    </tr>\n",
       "    <tr>\n",
       "      <th>5</th>\n",
       "      <td>1466</td>\n",
       "      <td>69237.492188</td>\n",
       "    </tr>\n",
       "    <tr>\n",
       "      <th>6</th>\n",
       "      <td>1467</td>\n",
       "      <td>73931.835938</td>\n",
       "    </tr>\n",
       "    <tr>\n",
       "      <th>7</th>\n",
       "      <td>1468</td>\n",
       "      <td>78886.625000</td>\n",
       "    </tr>\n",
       "    <tr>\n",
       "      <th>8</th>\n",
       "      <td>1469</td>\n",
       "      <td>72698.445312</td>\n",
       "    </tr>\n",
       "    <tr>\n",
       "      <th>9</th>\n",
       "      <td>1470</td>\n",
       "      <td>79032.671875</td>\n",
       "    </tr>\n",
       "  </tbody>\n",
       "</table>\n",
       "</div>"
      ],
      "text/plain": [
       "     Id     SalePrice\n",
       "0  1461  79223.843750\n",
       "1  1462  84727.773438\n",
       "2  1463  73371.781250\n",
       "3  1464  80335.687500\n",
       "4  1465  89928.632812\n",
       "5  1466  69237.492188\n",
       "6  1467  73931.835938\n",
       "7  1468  78886.625000\n",
       "8  1469  72698.445312\n",
       "9  1470  79032.671875"
      ]
     },
     "execution_count": 303,
     "metadata": {},
     "output_type": "execute_result"
    }
   ],
   "source": [
    "output[['Id', 'SalePrice']].head(10)"
   ]
  },
  {
   "cell_type": "code",
   "execution_count": null,
   "metadata": {},
   "outputs": [],
   "source": []
  }
 ],
 "metadata": {
  "kernelspec": {
   "display_name": "Python 3",
   "language": "python",
   "name": "python3"
  },
  "language_info": {
   "codemirror_mode": {
    "name": "ipython",
    "version": 3
   },
   "file_extension": ".py",
   "mimetype": "text/x-python",
   "name": "python",
   "nbconvert_exporter": "python",
   "pygments_lexer": "ipython3",
   "version": "3.7.5"
  }
 },
 "nbformat": 4,
 "nbformat_minor": 2
}
